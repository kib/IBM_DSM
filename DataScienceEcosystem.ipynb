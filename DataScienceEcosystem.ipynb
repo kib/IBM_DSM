{
 "cells": [
  {
   "cell_type": "markdown",
   "id": "198a3d47-b786-42d3-8ff9-fc8539030918",
   "metadata": {
    "tags": []
   },
   "source": [
    "# Data Science Tools and Ecosystem"
   ]
  },
  {
   "cell_type": "markdown",
   "id": "22fecac5-c219-43e5-8e27-b654d4fec85e",
   "metadata": {},
   "source": [
    "In this notebook, Data Science Tools and Ecosystem are summarized.\n",
    "\n",
    "<strong>Objectives:</strong>\n",
    "    <ul>\n",
    "        <li>List popular languages that Data Scientists use.</li>\n",
    "        <li>List most common used libraries used by Data Scientists.</li>\n",
    "        <li>Few examples for some arithmetic expressions in Python.</li>\n",
    "    </ul>"
   ]
  },
  {
   "cell_type": "markdown",
   "id": "3c22b408-b75f-443a-98b8-1c9d1356a744",
   "metadata": {},
   "source": [
    "Some of the popular languages that Data Scientists use are:\n",
    "    <ol>\n",
    "      <li>Python</li>\n",
    "      <li>R</li>\n",
    "        <li>SQL</li>\n",
    "    </ol>"
   ]
  },
  {
   "cell_type": "markdown",
   "id": "1fe65bb8-e111-449f-b47f-a1d38c2e5afd",
   "metadata": {},
   "source": [
    "Some of the commonly used libraries used by Data Scientists include:\n",
    "<ol>\n",
    "    <li>TensorFlow</li>\n",
    "    <li>Pandas</li>\n",
    "    <li>Keras</li>\n",
    "</ol>"
   ]
  },
  {
   "cell_type": "markdown",
   "id": "61382fdd-1ba4-4435-8419-4cd0ef50ac46",
   "metadata": {},
   "source": [
    "Data Science Tools:\n",
    "\n",
    "<table>\n",
    "    <tr>\n",
    "        <th>Data Science Tools</th>\n",
    "        <th></th>\n",
    "        <th></th>\n",
    "    </tr>\n",
    "    <tr>\n",
    "        <td>SAS. It is one of those data science tools which are specifically designed for statistical operation</td>\n",
    "        <td></td>\n",
    "        <td></td>\n",
    "    </tr>\n",
    "    <tr>\n",
    "        <td>Apache Spark</td>\n",
    "        <td></td>\n",
    "        <td></td>\n",
    "    </tr>\n",
    "    <tr>\n",
    "        <td>BigML</td>\n",
    "        <td></td>\n",
    "        <td></td>\n",
    "    </tr>\n",
    "</table>"
   ]
  },
  {
   "cell_type": "markdown",
   "id": "4b4b9a27-d242-478a-8a2d-9724e23d3f14",
   "metadata": {},
   "source": [
    "<h3>Below are a few examples of evaluating arithmetic expressions in Python</h3>"
   ]
  },
  {
   "cell_type": "code",
   "execution_count": 25,
   "id": "f36a21d6-c85a-481c-b5b6-b15ab9813702",
   "metadata": {
    "tags": []
   },
   "outputs": [
    {
     "data": {
      "text/plain": [
       "17"
      ]
     },
     "execution_count": 25,
     "metadata": {},
     "output_type": "execute_result"
    }
   ],
   "source": [
    "#This is a simple arithmetic expression to multiply then add integers.\n",
    "\n",
    "(3*4)+5\n",
    "\n",
    "# Result: 17"
   ]
  },
  {
   "cell_type": "code",
   "execution_count": 31,
   "id": "72a18002-6e9e-494b-9530-2d98bf7944e5",
   "metadata": {
    "tags": []
   },
   "outputs": [
    {
     "name": "stdout",
     "output_type": "stream",
     "text": [
      "3.3333333333333335\n"
     ]
    }
   ],
   "source": [
    "#This will convert 200 minutes to hours by diving by 60\n",
    "hours = 0\n",
    "mins = 0\n",
    "giventime = 200\n",
    "left_min = giventime % 1440\n",
    "hours = left_min / 60\n",
    "print(str(hours))\n"
   ]
  },
  {
   "cell_type": "markdown",
   "id": "76b1a96a-8635-4865-8a36-9f0981819b42",
   "metadata": {},
   "source": [
    "<h2>Author:</h2> Ejal de Klerk"
   ]
  },
  {
   "cell_type": "code",
   "execution_count": null,
   "id": "6a949912-446d-416a-9300-930635d468ff",
   "metadata": {},
   "outputs": [],
   "source": []
  }
 ],
 "metadata": {
  "kernelspec": {
   "display_name": "Python",
   "language": "python",
   "name": "conda-env-python-py"
  },
  "language_info": {
   "codemirror_mode": {
    "name": "ipython",
    "version": 3
   },
   "file_extension": ".py",
   "mimetype": "text/x-python",
   "name": "python",
   "nbconvert_exporter": "python",
   "pygments_lexer": "ipython3",
   "version": "3.7.12"
  }
 },
 "nbformat": 4,
 "nbformat_minor": 5
}
